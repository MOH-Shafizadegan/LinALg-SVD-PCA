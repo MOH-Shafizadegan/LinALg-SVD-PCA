{
  "cells": [
    {
      "cell_type": "markdown",
      "id": "b8b13f6a",
      "metadata": {
        "id": "b8b13f6a"
      },
      "source": [
        "<h1 align=\"center\">Mathematical Methods In Engineering - 25872</h1>\n",
        "<h4 align=\"center\">Dr. Amiri</h4>\n",
        "<h4 align=\"center\">Sharif University of Technology, Spring 2023</h4>\n",
        "<h4 align=\"center\">Python Assignment</h4>\n"
      ]
    },
    {
      "cell_type": "markdown",
      "id": "a76f25aa",
      "metadata": {
        "id": "a76f25aa"
      },
      "source": [
        "________________________________________________________________________________________________________________________________"
      ]
    },
    {
      "cell_type": "markdown",
      "id": "SVkWjhhUaxRA",
      "metadata": {
        "collapsed": false,
        "id": "SVkWjhhUaxRA"
      },
      "source": [
        "<h5 align=\"center\"> Mohammad Hossein Shafiezadegan </h5>\n",
        "<h5 align=\"center\"> 99104781 </h5>"
      ]
    },
    {
      "cell_type": "code",
      "execution_count": 1,
      "id": "VLGKSTbOaxRB",
      "metadata": {
        "id": "VLGKSTbOaxRB"
      },
      "outputs": [],
      "source": [
        "# import required packages\n",
        "\n",
        "import numpy as np\n",
        "import matplotlib.pyplot as plt"
      ]
    },
    {
      "cell_type": "markdown",
      "id": "54ae349a",
      "metadata": {
        "id": "54ae349a"
      },
      "source": [
        "# Q3: PCA in Data Analysis (45 points)"
      ]
    },
    {
      "cell_type": "markdown",
      "id": "72334e47",
      "metadata": {
        "id": "72334e47"
      },
      "source": [
        "We have a dataset containing the movie ratings from 1,000 users. There are 200 movies in the dataset, and each user has rated all of them. The ratings are integers from 1 (worst) to 5 (best). The goal of this problem set is to perform PCA on this dataset and analyze the results.\n",
        "### 3.1: Data Loading and Visualization (5 points)\n",
        "First, we need to load the dataset and understand its structure. This data is stored in a CSV file named ratings.csv, with 1,000 rows and 200 columns. Each row corresponds to a user, and each column corresponds to a movie.\n",
        "\n",
        "1. Load the CSV file into a NumPy array or a pandas DataFrame.\n",
        "2. Visualize the first few rows of the data to understand its structure.\n",
        "3. Plot a histogram to show the distribution of the ratings in the dataset."
      ]
    },
    {
      "cell_type": "code",
      "execution_count": 24,
      "id": "e7ca4125",
      "metadata": {
        "colab": {
          "base_uri": "https://localhost:8080/",
          "height": 299
        },
        "id": "e7ca4125",
        "outputId": "8b7aaee5-b3be-43a4-dd80-211749f27a6b"
      },
      "outputs": [
        {
          "data": {
            "text/html": [
              "\n",
              "  <div id=\"df-e2bd6fcc-88b3-4a76-8f93-6d909f1db05f\">\n",
              "    <div class=\"colab-df-container\">\n",
              "      <div>\n",
              "<style scoped>\n",
              "    .dataframe tbody tr th:only-of-type {\n",
              "        vertical-align: middle;\n",
              "    }\n",
              "\n",
              "    .dataframe tbody tr th {\n",
              "        vertical-align: top;\n",
              "    }\n",
              "\n",
              "    .dataframe thead th {\n",
              "        text-align: right;\n",
              "    }\n",
              "</style>\n",
              "<table border=\"1\" class=\"dataframe\">\n",
              "  <thead>\n",
              "    <tr style=\"text-align: right;\">\n",
              "      <th></th>\n",
              "      <th>Movie_1</th>\n",
              "      <th>Movie_2</th>\n",
              "      <th>Movie_3</th>\n",
              "      <th>Movie_4</th>\n",
              "      <th>Movie_5</th>\n",
              "      <th>Movie_6</th>\n",
              "      <th>Movie_7</th>\n",
              "      <th>Movie_8</th>\n",
              "      <th>Movie_9</th>\n",
              "      <th>Movie_10</th>\n",
              "      <th>...</th>\n",
              "      <th>Movie_191</th>\n",
              "      <th>Movie_192</th>\n",
              "      <th>Movie_193</th>\n",
              "      <th>Movie_194</th>\n",
              "      <th>Movie_195</th>\n",
              "      <th>Movie_196</th>\n",
              "      <th>Movie_197</th>\n",
              "      <th>Movie_198</th>\n",
              "      <th>Movie_199</th>\n",
              "      <th>Movie_200</th>\n",
              "    </tr>\n",
              "  </thead>\n",
              "  <tbody>\n",
              "    <tr>\n",
              "      <th>0</th>\n",
              "      <td>5</td>\n",
              "      <td>1</td>\n",
              "      <td>4</td>\n",
              "      <td>4</td>\n",
              "      <td>4</td>\n",
              "      <td>2</td>\n",
              "      <td>4</td>\n",
              "      <td>3</td>\n",
              "      <td>5</td>\n",
              "      <td>1</td>\n",
              "      <td>...</td>\n",
              "      <td>4</td>\n",
              "      <td>1</td>\n",
              "      <td>5</td>\n",
              "      <td>3</td>\n",
              "      <td>4</td>\n",
              "      <td>5</td>\n",
              "      <td>1</td>\n",
              "      <td>3</td>\n",
              "      <td>4</td>\n",
              "      <td>4</td>\n",
              "    </tr>\n",
              "    <tr>\n",
              "      <th>1</th>\n",
              "      <td>2</td>\n",
              "      <td>4</td>\n",
              "      <td>5</td>\n",
              "      <td>4</td>\n",
              "      <td>4</td>\n",
              "      <td>2</td>\n",
              "      <td>2</td>\n",
              "      <td>2</td>\n",
              "      <td>4</td>\n",
              "      <td>3</td>\n",
              "      <td>...</td>\n",
              "      <td>1</td>\n",
              "      <td>4</td>\n",
              "      <td>4</td>\n",
              "      <td>5</td>\n",
              "      <td>2</td>\n",
              "      <td>5</td>\n",
              "      <td>4</td>\n",
              "      <td>4</td>\n",
              "      <td>4</td>\n",
              "      <td>5</td>\n",
              "    </tr>\n",
              "    <tr>\n",
              "      <th>2</th>\n",
              "      <td>3</td>\n",
              "      <td>2</td>\n",
              "      <td>3</td>\n",
              "      <td>3</td>\n",
              "      <td>2</td>\n",
              "      <td>4</td>\n",
              "      <td>4</td>\n",
              "      <td>5</td>\n",
              "      <td>5</td>\n",
              "      <td>3</td>\n",
              "      <td>...</td>\n",
              "      <td>2</td>\n",
              "      <td>3</td>\n",
              "      <td>4</td>\n",
              "      <td>5</td>\n",
              "      <td>2</td>\n",
              "      <td>1</td>\n",
              "      <td>5</td>\n",
              "      <td>2</td>\n",
              "      <td>3</td>\n",
              "      <td>5</td>\n",
              "    </tr>\n",
              "    <tr>\n",
              "      <th>3</th>\n",
              "      <td>4</td>\n",
              "      <td>1</td>\n",
              "      <td>5</td>\n",
              "      <td>5</td>\n",
              "      <td>1</td>\n",
              "      <td>3</td>\n",
              "      <td>4</td>\n",
              "      <td>2</td>\n",
              "      <td>3</td>\n",
              "      <td>2</td>\n",
              "      <td>...</td>\n",
              "      <td>4</td>\n",
              "      <td>1</td>\n",
              "      <td>4</td>\n",
              "      <td>3</td>\n",
              "      <td>2</td>\n",
              "      <td>1</td>\n",
              "      <td>1</td>\n",
              "      <td>4</td>\n",
              "      <td>5</td>\n",
              "      <td>2</td>\n",
              "    </tr>\n",
              "    <tr>\n",
              "      <th>4</th>\n",
              "      <td>1</td>\n",
              "      <td>1</td>\n",
              "      <td>3</td>\n",
              "      <td>2</td>\n",
              "      <td>2</td>\n",
              "      <td>1</td>\n",
              "      <td>2</td>\n",
              "      <td>2</td>\n",
              "      <td>1</td>\n",
              "      <td>1</td>\n",
              "      <td>...</td>\n",
              "      <td>3</td>\n",
              "      <td>1</td>\n",
              "      <td>3</td>\n",
              "      <td>1</td>\n",
              "      <td>3</td>\n",
              "      <td>5</td>\n",
              "      <td>4</td>\n",
              "      <td>2</td>\n",
              "      <td>2</td>\n",
              "      <td>4</td>\n",
              "    </tr>\n",
              "  </tbody>\n",
              "</table>\n",
              "<p>5 rows × 200 columns</p>\n",
              "</div>\n",
              "      <button class=\"colab-df-convert\" onclick=\"convertToInteractive('df-e2bd6fcc-88b3-4a76-8f93-6d909f1db05f')\"\n",
              "              title=\"Convert this dataframe to an interactive table.\"\n",
              "              style=\"display:none;\">\n",
              "        \n",
              "  <svg xmlns=\"http://www.w3.org/2000/svg\" height=\"24px\"viewBox=\"0 0 24 24\"\n",
              "       width=\"24px\">\n",
              "    <path d=\"M0 0h24v24H0V0z\" fill=\"none\"/>\n",
              "    <path d=\"M18.56 5.44l.94 2.06.94-2.06 2.06-.94-2.06-.94-.94-2.06-.94 2.06-2.06.94zm-11 1L8.5 8.5l.94-2.06 2.06-.94-2.06-.94L8.5 2.5l-.94 2.06-2.06.94zm10 10l.94 2.06.94-2.06 2.06-.94-2.06-.94-.94-2.06-.94 2.06-2.06.94z\"/><path d=\"M17.41 7.96l-1.37-1.37c-.4-.4-.92-.59-1.43-.59-.52 0-1.04.2-1.43.59L10.3 9.45l-7.72 7.72c-.78.78-.78 2.05 0 2.83L4 21.41c.39.39.9.59 1.41.59.51 0 1.02-.2 1.41-.59l7.78-7.78 2.81-2.81c.8-.78.8-2.07 0-2.86zM5.41 20L4 18.59l7.72-7.72 1.47 1.35L5.41 20z\"/>\n",
              "  </svg>\n",
              "      </button>\n",
              "      \n",
              "  <style>\n",
              "    .colab-df-container {\n",
              "      display:flex;\n",
              "      flex-wrap:wrap;\n",
              "      gap: 12px;\n",
              "    }\n",
              "\n",
              "    .colab-df-convert {\n",
              "      background-color: #E8F0FE;\n",
              "      border: none;\n",
              "      border-radius: 50%;\n",
              "      cursor: pointer;\n",
              "      display: none;\n",
              "      fill: #1967D2;\n",
              "      height: 32px;\n",
              "      padding: 0 0 0 0;\n",
              "      width: 32px;\n",
              "    }\n",
              "\n",
              "    .colab-df-convert:hover {\n",
              "      background-color: #E2EBFA;\n",
              "      box-shadow: 0px 1px 2px rgba(60, 64, 67, 0.3), 0px 1px 3px 1px rgba(60, 64, 67, 0.15);\n",
              "      fill: #174EA6;\n",
              "    }\n",
              "\n",
              "    [theme=dark] .colab-df-convert {\n",
              "      background-color: #3B4455;\n",
              "      fill: #D2E3FC;\n",
              "    }\n",
              "\n",
              "    [theme=dark] .colab-df-convert:hover {\n",
              "      background-color: #434B5C;\n",
              "      box-shadow: 0px 1px 3px 1px rgba(0, 0, 0, 0.15);\n",
              "      filter: drop-shadow(0px 1px 2px rgba(0, 0, 0, 0.3));\n",
              "      fill: #FFFFFF;\n",
              "    }\n",
              "  </style>\n",
              "\n",
              "      <script>\n",
              "        const buttonEl =\n",
              "          document.querySelector('#df-e2bd6fcc-88b3-4a76-8f93-6d909f1db05f button.colab-df-convert');\n",
              "        buttonEl.style.display =\n",
              "          google.colab.kernel.accessAllowed ? 'block' : 'none';\n",
              "\n",
              "        async function convertToInteractive(key) {\n",
              "          const element = document.querySelector('#df-e2bd6fcc-88b3-4a76-8f93-6d909f1db05f');\n",
              "          const dataTable =\n",
              "            await google.colab.kernel.invokeFunction('convertToInteractive',\n",
              "                                                     [key], {});\n",
              "          if (!dataTable) return;\n",
              "\n",
              "          const docLinkHtml = 'Like what you see? Visit the ' +\n",
              "            '<a target=\"_blank\" href=https://colab.research.google.com/notebooks/data_table.ipynb>data table notebook</a>'\n",
              "            + ' to learn more about interactive tables.';\n",
              "          element.innerHTML = '';\n",
              "          dataTable['output_type'] = 'display_data';\n",
              "          await google.colab.output.renderOutput(dataTable, element);\n",
              "          const docLink = document.createElement('div');\n",
              "          docLink.innerHTML = docLinkHtml;\n",
              "          element.appendChild(docLink);\n",
              "        }\n",
              "      </script>\n",
              "    </div>\n",
              "  </div>\n",
              "  "
            ],
            "text/plain": [
              "   Movie_1  Movie_2  Movie_3  Movie_4  Movie_5  Movie_6  Movie_7  Movie_8  \\\n",
              "0        5        1        4        4        4        2        4        3   \n",
              "1        2        4        5        4        4        2        2        2   \n",
              "2        3        2        3        3        2        4        4        5   \n",
              "3        4        1        5        5        1        3        4        2   \n",
              "4        1        1        3        2        2        1        2        2   \n",
              "\n",
              "   Movie_9  Movie_10  ...  Movie_191  Movie_192  Movie_193  Movie_194  \\\n",
              "0        5         1  ...          4          1          5          3   \n",
              "1        4         3  ...          1          4          4          5   \n",
              "2        5         3  ...          2          3          4          5   \n",
              "3        3         2  ...          4          1          4          3   \n",
              "4        1         1  ...          3          1          3          1   \n",
              "\n",
              "   Movie_195  Movie_196  Movie_197  Movie_198  Movie_199  Movie_200  \n",
              "0          4          5          1          3          4          4  \n",
              "1          2          5          4          4          4          5  \n",
              "2          2          1          5          2          3          5  \n",
              "3          2          1          1          4          5          2  \n",
              "4          3          5          4          2          2          4  \n",
              "\n",
              "[5 rows x 200 columns]"
            ]
          },
          "execution_count": 24,
          "metadata": {},
          "output_type": "execute_result"
        }
      ],
      "source": [
        "import pandas as pd\n",
        "from sklearn.model_selection import train_test_split\n",
        "from sklearn.preprocessing import StandardScaler\n",
        "\n",
        "# importing data from .csv file and loadong it into a pandas dataframe\n",
        "df = pd.read_csv('ratings.csv')\n",
        "# displaying first 5 rows of data\n",
        "df.head()\n"
      ]
    },
    {
      "cell_type": "code",
      "execution_count": 25,
      "id": "LIRktDbgFNFd",
      "metadata": {
        "colab": {
          "base_uri": "https://localhost:8080/",
          "height": 391
        },
        "id": "LIRktDbgFNFd",
        "outputId": "32fddc33-8acb-482a-933a-c37febe04ea2"
      },
      "outputs": [
        {
          "data": {
            "image/png": "[encoded data removed]",
            "text/plain": [
              "<Figure size 1000x400 with 2 Axes>"
            ]
          },
          "metadata": {},
          "output_type": "display_data"
        }
      ],
      "source": [
        "# converting dataframe values to numpy arrays for ease of use\n",
        "data = df.to_numpy()\n",
        "\n",
        "plt.rcParams['figure.figsize'] = (10,4)\n",
        "plt.subplot(1,2,1)\n",
        "plt.hist(np.average(data, axis=1))\n",
        "plt.xlabel('movies average score')\n",
        "plt.ylabel('number of people')\n",
        "\n",
        "plt.subplot(1,2,2)\n",
        "plt.hist(np.average(data, axis=0))\n",
        "plt.xlabel('people average score')\n",
        "plt.ylabel('number of movies')\n",
        "plt.show()"
      ]
    },
    {
      "cell_type": "markdown",
      "id": "a653e48d",
      "metadata": {
        "id": "a653e48d"
      },
      "source": [
        "<h3> <font color=\"green\"> Histograms Explaination </font> </h3>\n",
        "\n",
        "### Left side histogram\n",
        "\n",
        "In this histogram we can observe rating behavior of people in our dataset. Based on this histogram it can be stated that about 250 people have rated all mobies in our dataset with an average score of 3. This diagram show us how poeple rate all range of movies in our dataset. Across all types of movies most people have average score of 3 which means that they have rated movies fairly. They haven't rate bad movies with high score of good movies with very low scores.\n",
        "\n",
        "### Right side histogram\n",
        "In this histogram we can observe rating behavior of movies in our dataset. It can be seen that 50 movies out of the 200 movies have recieved an average score of 3 from people.\n",
        "The distribution of our data is almost gaussian with average of 3."
      ]
    },
    {
      "cell_type": "markdown",
      "id": "5de2e8b5",
      "metadata": {
        "id": "5de2e8b5"
      },
      "source": [
        "### 3.2 Data Preprocessing (5 points)\n",
        "Before applying PCA, we should preprocess the data.\n",
        "\n",
        "1. Normalize the data so that each movie has a mean rating of 0 and a standard deviation of 1. This ensures that our PCA isn't affected by the scale of the ratings.\n",
        "2. Split the dataset into a training set and a test set. Use 80% of the data for training and 20% for testing."
      ]
    },
    {
      "cell_type": "code",
      "execution_count": 26,
      "id": "ead19763",
      "metadata": {
        "id": "ead19763"
      },
      "outputs": [],
      "source": [
        "# spliting data to test and train\n",
        "data_train, data_test = train_test_split (data, test_size=0.2)\n",
        "\n",
        "# normalizing (set data mean to 0 and it's standard deviation to 1)\n",
        "scaler = StandardScaler()\n",
        "norm_data = scaler.fit_transform(data_train)\n"
      ]
    },
    {
      "cell_type": "markdown",
      "id": "fba7d733",
      "metadata": {
        "id": "fba7d733"
      },
      "source": [
        "### 3.3 Principal Component Analysis (10 points)\n",
        "Now we can apply PCA to the training set.\n",
        "\n",
        "1. Implement PCA. You might want to use a library like scikit-learn, or you might choose to implement it from scratch.\n",
        "**Note: Implementation from scratch is bonus.**\n",
        "2. Choose the number of principal components to retain. Explain why you chose this number."
      ]
    },
    {
      "cell_type": "code",
      "execution_count": 27,
      "id": "b2ec62b1",
      "metadata": {
        "colab": {
          "base_uri": "https://localhost:8080/",
          "height": 410
        },
        "id": "b2ec62b1",
        "outputId": "775861f6-e532-4ebe-db6d-92ca4a12ddf3"
      },
      "outputs": [
        {
          "data": {
            "image/png": "[encoded data removed]",
            "text/plain": [
              "<Figure size 800x400 with 1 Axes>"
            ]
          },
          "metadata": {},
          "output_type": "display_data"
        }
      ],
      "source": [
        "# Implementing PCA from scrath.\n",
        "# Using the same code we developed in the previous question\n",
        "\n",
        "cov_mat = np.cov(data_train.T)/len(data_train)\n",
        "\n",
        "# Eigendecomposition of covariance matrix\n",
        "eigvals, eigvecs = np.linalg.eig(cov_mat)\n",
        "\n",
        "# sorting eigenvalues and eigenvectors in descending order\n",
        "idx = np.argsort(eigvals)[::-1]\n",
        "eigvals = eigvals[idx]\n",
        "eigvecs = eigvecs[:, idx]\n",
        "\n",
        "# Compute explained variance ---> eigenvalue/(sum of egn_values )\n",
        "expl_var = eigvals / np.sum(eigvals) * 100\n",
        "\n",
        "# Plot the cumulative explained variance\n",
        "cum_expl_var = np.cumsum(expl_var)\n",
        "plt.rcParams['figure.figsize'] = (8,4)\n",
        "plt.plot(range(1, len(eigvals) + 1), cum_expl_var)\n",
        "plt.xlabel('Number of PC')\n",
        "plt.ylabel('Cumulative Explained Variance')\n",
        "plt.title('Cumulative Explained Variance Plot')\n",
        "plt.show()"
      ]
    },
    {
      "cell_type": "markdown",
      "id": "fI95liwvdcIo",
      "metadata": {
        "id": "fI95liwvdcIo"
      },
      "source": [
        "<h3> <font color=\"green\"> Explaination </font> </h3>\n",
        "\n",
        "Based on the above cure, it can be seen that the cumulative explained variance grows approximately linear as we increase number of principle components. Unlike the previous question that almos 300 PCs of the total 784 PCs contains all the variances in the data, in this question our data gathered in a way that the variance of our data in direction of each component is almost the same. This means that for a good and accurate reconstruction we might need almost all of the PCs.\n",
        "\n",
        "In the following sections we will choose different numbers of PCs and predict the test data. We will discuss it more in the next parts."
      ]
    },
    {
      "cell_type": "code",
      "execution_count": 28,
      "id": "rm8kDTZWCSnY",
      "metadata": {
        "id": "rm8kDTZWCSnY"
      },
      "outputs": [],
      "source": [
        "# Apply the PCA\n",
        "P = [185, 190, 195, 200]\n",
        "eigvals_p = []\n",
        "eigvecs_p = []\n",
        "for p in P:\n",
        "  eigvals_p.append(eigvals[:p])\n",
        "  eigvecs_p.append(eigvecs[:, :p])\n",
        "\n",
        "reduced_data = []\n",
        "for i in range(len(P)):\n",
        "  reduced_data.append(data_train @ eigvecs[i])\n"
      ]
    },
    {
      "cell_type": "markdown",
      "id": "3a0db982",
      "metadata": {
        "id": "3a0db982"
      },
      "source": [
        "### 3.4 Interpretation of Principal Components (10 points)\n",
        "The principal components can be difficult to interpret. But since our dataset is about movie ratings, we might expect that they correspond to some kinds of `tastes` in movies.\n",
        "\n",
        "For each of the first few principal components, find the 5 movies with the highest and lowest loadings.\n",
        "`Loading` refers to the coefficients of the linear combination of the original variables (in your case, movie ratings) that make up a principal component. They reflect how much each original variable contributes to the principal component.\n",
        "In terms of their `highest` and `lowest` loading:\n",
        "1. The variables (or in the context, movies) with the highest loadings on a principal component are those that contribute the most (positively) to that component. In other words, these are the movies that a user rates similarly when considering this underlying factor. They might represent a specific taste in movies. For example, if the first principal component has high loadings for a lot of action movies, it might represent a taste for action films.\n",
        "2. Conversely, the variables with the lowest loadings (or the most negative) on a principal component contribute negatively to that component. In the context of movie ratings, these might represent the movies that a user tends to rate lower when this underlying taste is considered."
      ]
    },
    {
      "cell_type": "code",
      "execution_count": 29,
      "id": "9d3eb614",
      "metadata": {
        "colab": {
          "base_uri": "https://localhost:8080/"
        },
        "id": "9d3eb614",
        "outputId": "402f8a2d-784a-459c-fb16-770cf9822b3a"
      },
      "outputs": [
        {
          "name": "stdout",
          "output_type": "stream",
          "text": [
            "\t\t ******* \t PC 1 \t\t *******\n",
            "Top five movies with highest absolute loadings and their values for PC1:\n",
            "\t\tMovie  182  \t\t  0.016\n",
            "\t\tMovie  161  \t\t  0.013\n",
            "\t\tMovie  185  \t\t  0.012\n",
            "\t\tMovie  84  \t\t  0.012\n",
            "\t\tMovie  152  \t\t  0.011\n",
            "Top five movies with lowest absolute loadings and their values for PC1 :\n",
            "\t\tMovie  1  \t\t  0.000\n",
            "\t\tMovie  94  \t\t  0.000\n",
            "\t\tMovie  106  \t\t  0.000\n",
            "\t\tMovie  156  \t\t  0.000\n",
            "\t\tMovie  49  \t\t  0.000\n",
            "============================================================================\n",
            "\n",
            "\t\t ******* \t PC 2 \t\t *******\n",
            "Top five movies with highest absolute loadings and their values for PC2:\n",
            "\t\tMovie  52  \t\t  0.015\n",
            "\t\tMovie  31  \t\t  0.014\n",
            "\t\tMovie  80  \t\t  0.013\n",
            "\t\tMovie  65  \t\t  0.012\n",
            "\t\tMovie  66  \t\t  0.012\n",
            "Top five movies with lowest absolute loadings and their values for PC2 :\n",
            "\t\tMovie  164  \t\t  0.000\n",
            "\t\tMovie  190  \t\t  0.000\n",
            "\t\tMovie  18  \t\t  0.000\n",
            "\t\tMovie  139  \t\t  0.000\n",
            "\t\tMovie  149  \t\t  0.000\n",
            "============================================================================\n",
            "\n",
            "\t\t ******* \t PC 3 \t\t *******\n",
            "Top five movies with highest absolute loadings and their values for PC3:\n",
            "\t\tMovie  174  \t\t  0.015\n",
            "\t\tMovie  149  \t\t  0.013\n",
            "\t\tMovie  85  \t\t  0.013\n",
            "\t\tMovie  199  \t\t  0.011\n",
            "\t\tMovie  155  \t\t  0.011\n",
            "Top five movies with lowest absolute loadings and their values for PC3 :\n",
            "\t\tMovie  188  \t\t  0.000\n",
            "\t\tMovie  192  \t\t  0.000\n",
            "\t\tMovie  152  \t\t  0.000\n",
            "\t\tMovie  113  \t\t  0.000\n",
            "\t\tMovie  106  \t\t  0.000\n",
            "============================================================================\n",
            "\n"
          ]
        }
      ],
      "source": [
        "p = 3\n",
        "loadings = eigvecs[:,:p] * np.sqrt(eigvals[:p])\n",
        "\n",
        "abs_loadings = np.abs(loadings)\n",
        "sorted_loadings = np.zeros(loadings.shape)\n",
        "movies = np.zeros(loadings.shape)\n",
        "for i in range(loadings.shape[1]):\n",
        "    idx = np.argsort(abs_loadings[:,i])[::-1]\n",
        "    sorted_loadings[:,i] = abs_loadings[idx,i]\n",
        "    movies[:,i] = idx\n",
        "\n",
        "for j in range(loadings.shape[1]):\n",
        "    print(f\"\\t\\t ******* \\t PC {j+1} \\t\\t *******\")\n",
        "    print(f'Top five movies with highest absolute loadings and their values for PC{j+1}:')\n",
        "    for i in range(5):\n",
        "        print(f'\\t\\tMovie {movies[i,j]: .0f}  \\t\\t {sorted_loadings[i,j]: .3f}')\n",
        "    print(f'Top five movies with lowest absolute loadings and their values for PC{j+1} :')\n",
        "    for i in range(5):\n",
        "        print(f'\\t\\tMovie {movies[-1-i,j]: .0f}  \\t\\t {sorted_loadings[-1-i,j]: .3f}')\n",
        "    print('============================================================================\\n')\n"
      ]
    },
    {
      "cell_type": "markdown",
      "id": "ba41bf41",
      "metadata": {
        "id": "ba41bf41"
      },
      "source": [
        "### 3.5 Reconstruction of Ratings and Error Analysis (15 points)\n",
        "Now we will use our PCA to make predictions.\n",
        "\n",
        "1. **Project the test set onto the principal components, then reconstruct it.**\n",
        "  After you've found the principal components (from your training set), you can use them to transform your test set. This involves representing each user in the test set as a combination of the principal components. Then, you `reconstruct` the test set. This means you convert your data back from the principal component space to the original space of movie ratings. This gives you a set of `predicted` ratings for each movie. These predicted ratings aren't exactly the original ratings. They're what the PCA model thinks the ratings should be, based on the patterns it learned from the training set.\n",
        "2. **Measure the mean squared error (MSE) between the original ratings and the reconstructed ratings. Is the error high or low? Why?**\n",
        "  To evaluate how good your PCA model is, you compare the predicted ratings to the actual ratings. You calculate the Mean Squared Error (MSE), which is a common way to measure the difference between predicted and actual values.\n",
        "3. **Plot a scatterplot to show the original ratings (on the x-axis) and the predicted ratings (on the y-axis) for a few users and movies.**\n",
        " Finally, you visualize the results with a scatterplot. The x-coordinate is the original rating, and the y-coordinate is the predicted rating. If the PCA model is perfect, all points would lie along the line y = x."
      ]
    },
    {
      "cell_type": "code",
      "execution_count": 30,
      "id": "d6f872c1",
      "metadata": {
        "colab": {
          "base_uri": "https://localhost:8080/"
        },
        "id": "d6f872c1",
        "outputId": "441d59d9-d55d-4195-c3c5-77f16d711ed8"
      },
      "outputs": [
        {
          "name": "stdout",
          "output_type": "stream",
          "text": [
            "MSE error when using 185 PCs \t\t 0.15620639464655758\n",
            "MSE error when using 190 PCs \t\t 0.10911352160806284\n",
            "MSE error when using 195 PCs \t\t 0.05305372810524151\n",
            "MSE error when using 200 PCs \t\t 1.493917521739858e-26\n"
          ]
        }
      ],
      "source": [
        "predicted_data = []\n",
        "MSE = []\n",
        "test_avg = data_test - np.mean(data_test, axis=0)\n",
        "for i in range(len(P)):\n",
        "  red_vectors = test_avg @ eigvecs_p[i]\n",
        "  reconst_data = red_vectors @ eigvecs_p[i].T + np.mean(data_test, axis=0)\n",
        "  MSE.append(np.mean(np.abs(reconst_data - data_test) ** 2))\n",
        "  predicted_data.append(reconst_data)\n",
        "\n",
        "for i in range(len(P)):\n",
        "  print(f\"MSE error when using {P[i]} PCs \\t\\t {MSE[i]}\")"
      ]
    },
    {
      "cell_type": "markdown",
      "id": "1e9e56e7",
      "metadata": {
        "id": "1e9e56e7"
      },
      "source": [
        "<h3> <font color=\"green\"> Explaination </font> </h3>\n",
        "\n",
        "As we mentioned before, based on the cumulative explained variance curve we will need lots of principal component to accuratly represent and predict test data. Here it can be seen that when we use all of the PCs, the error will be zero while the MSE error will increase as we choose less PCs for our model."
      ]
    },
    {
      "cell_type": "code",
      "execution_count": 31,
      "id": "ISaXmwinid-n",
      "metadata": {
        "colab": {
          "base_uri": "https://localhost:8080/",
          "height": 307
        },
        "id": "ISaXmwinid-n",
        "outputId": "92076c10-eebf-47a7-d084-7399207befa1"
      },
      "outputs": [
        {
          "data": {
            "image/png": "[encoded data removed]",
            "text/plain": [
              "<Figure size 1200x300 with 4 Axes>"
            ]
          },
          "metadata": {},
          "output_type": "display_data"
        }
      ],
      "source": [
        "fig, axs = plt.subplots(nrows=1, ncols=len(P), figsize=(12, 3))\n",
        "idx = np.random.randint(1,data_test.shape[0])\n",
        "for i in range(len(P)):\n",
        "    axs[i].scatter(predicted_data[i][:,idx], data_test[:,idx])\n",
        "    axs[i].plot(np.linspace(1,5,100), np.linspace(1,5,100))\n",
        "    axs[i].set_xlabel('Predicted ratings')\n",
        "    axs[i].set_ylabel('Original ratings')\n",
        "    axs[i].set_title(f\"Movie {idx}, #PC = {P[i]}\", fontsize=8)\n",
        "plt.tight_layout()\n"
      ]
    },
    {
      "cell_type": "markdown",
      "id": "efbff455",
      "metadata": {
        "id": "efbff455"
      },
      "source": [
        "<h3> <font color=\"green\"> Explaination </font> </h3>\n",
        "\n",
        "It can be vividly seen that as we increase the number of PCs, the difference between the predicted values and the original valuese will decrease. This means that our model has become more accurate than before. When we use all of the PCs, the predicted values and original values are the same so dots will be placed on $y=x$ line."
      ]
    },
    {
      "cell_type": "markdown",
      "id": "93fd8cdf",
      "metadata": {
        "id": "93fd8cdf"
      },
      "source": [
        "Please submit your Python notebook with all code, outputs, and explanations clearly shown. We'll evaluate your problem set based on the correctness and clarity of your code, the correctness and depth of your explanations, and the creativity of your interpretations."
      ]
    }
  ],
  "metadata": {
    "colab": {
      "provenance": []
    },
    "kernelspec": {
      "display_name": "Python 3.10.6 64-bit",
      "language": "python",
      "name": "python3"
    },
    "language_info": {
      "codemirror_mode": {
        "name": "ipython",
        "version": 3
      },
      "file_extension": ".py",
      "mimetype": "text/x-python",
      "name": "python",
      "nbconvert_exporter": "python",
      "pygments_lexer": "ipython3",
      "version": "3.10.6"
    },
    "vscode": {
      "interpreter": {
        "hash": "0896b81dcb2c341496c5f558855f7373c1f3318c39ba481cdf7d9c519deac7b4"
      }
    }
  },
  "nbformat": 4,
  "nbformat_minor": 5
}
