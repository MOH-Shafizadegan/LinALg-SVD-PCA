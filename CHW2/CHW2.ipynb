{
 "cells": [
  {
   "cell_type": "markdown",
   "id": "d4c43607",
   "metadata": {},
   "source": [
    "<h1 align=\"center\">Mathematical Methods In Engineering - 25872</h1>\n",
    "<h2 align=\"center\">Dr. Amiri</h2>\n",
    "<h4 align=\"center\">Sharif University of Technology, Spring 2023</h4>\n",
    "<h4 align=\"center\">Python Assignment 2</h4>\n",
    "\n"
   ]
  },
  {
   "cell_type": "markdown",
   "id": "7ba7e386",
   "metadata": {},
   "source": [
    "<h4 align=\"left\">The blocks that have “Complete this part” written at the beginning of them need to be completed.</h4>\n",
    "<h4 align=\"left\">Ask your questions from Ehsan Ghasemi(for Q1 and Q2) and Parsa Abedi for (Q3 and Q4)</h4>"
   ]
  },
  {
   "cell_type": "markdown",
   "metadata": {
    "collapsed": false
   },
   "source": [
    "<h4 align=\"center\">Mohammad Hossein Shafiezadegan</h4>\n",
    "<h5 align=\"center\">99104781</h5>"
   ]
  },
  {
   "cell_type": "markdown",
   "id": "541ad2dc",
   "metadata": {},
   "source": [
    "## Question 1(30 points)\n"
   ]
  },
  {
   "cell_type": "markdown",
   "id": "acfd2415",
   "metadata": {},
   "source": [
    "### Step 1\n",
    "import our needed libraries."
   ]
  },
  {
   "cell_type": "code",
   "execution_count": 33,
   "id": "3e25f53d",
   "metadata": {},
   "outputs": [],
   "source": [
    "import numpy as np\n",
    "import matplotlib.pyplot as plt"
   ]
  },
  {
   "cell_type": "markdown",
   "id": "0be9841b",
   "metadata": {},
   "source": [
    "### Step 2\n",
    "In this exercise, we investigate a numerical method for computing the eigenvalues and eigenvectors of a matrix. First, we create a diagonalizable 3x3 matrix in the following section.\n",
    "\n"
   ]
  },
  {
   "cell_type": "code",
   "execution_count": 103,
   "id": "f17d4808",
   "metadata": {},
   "outputs": [
    {
     "name": "stdout",
     "output_type": "stream",
     "text": [
      "A =  [[-3.69860519  2.93584576  5.38697079]\n",
      " [ 2.93584576 -5.48254978  3.37216458]\n",
      " [ 5.38697079  3.37216458  5.80916608]]\n"
     ]
    }
   ],
   "source": [
    "## Do not change anything in this section!\n",
    "\n",
    "W = np.random.randn(3,3)\n",
    "Q,R = np.linalg.qr(W)\n",
    "\n",
    "D = np.random.uniform(low = 1, high = 10, size = 3)\n",
    "D = D * np.random.choice([-1,1],3)\n",
    "\n",
    "A = Q @ np.diag(D) @ Q.T\n",
    "\n",
    "print(\"A = \",A)"
   ]
  },
  {
   "cell_type": "markdown",
   "id": "5e529857",
   "metadata": {},
   "source": [
    "### Step 3\n",
    "Diagonalize matrix A using the command ‘np.linalg.eig’. At this stage, simply return a diagonal matrix of eigenvalues named D and a matrix V consisting of eigenvectors. Also, reconstruct matrix A using the obtained values and compare it with the previous section.\n",
    "\n"
   ]
  },
  {
   "cell_type": "code",
   "execution_count": 104,
   "id": "a5f1152a",
   "metadata": {},
   "outputs": [
    {
     "name": "stdout",
     "output_type": "stream",
     "text": [
      "Eigenvalues =  [[ 9.47416379 -7.69451669 -5.15163599]] \n",
      "\n",
      "Eigenvectors = \n",
      " [[-0.41594965 -0.65092859 -0.63504162]\n",
      " [-0.2769398   0.75581822 -0.59333226]\n",
      " [-0.86619296  0.07092805  0.49465036]] \n",
      "\n",
      "B =  [[-3.69860519  2.93584576  5.38697079]\n",
      " [ 2.93584576 -5.48254978  3.37216458]\n",
      " [ 5.38697079  3.37216458  5.80916608]]\n",
      "\n",
      " Are A and B equal ?  True\n"
     ]
    }
   ],
   "source": [
    "# Complete this part!\n",
    "\n",
    "## your code here\n",
    "\n",
    "eigVal, eigVec = np.linalg.eig(A)\n",
    "\n",
    "D = np.diag(eigVal)  # your code here\n",
    "V = eigVec  # your code here\n",
    "B = V @ D @ np.linalg.inv(V) # your code here\n",
    "\n",
    "print(\"Eigenvalues = \", (D @ np.array([[1],[1],[1]])).T,\"\\n\") \n",
    "print(\"Eigenvectors = \\n\", V,\"\\n\")\n",
    "print(\"B = \", B)\n",
    "\n",
    "# checking if A = B\n",
    "print(\"\\n Are A and B equal ? \", np.linalg.norm(A - B) < 1e-6)"
   ]
  },
  {
   "cell_type": "markdown",
   "id": "683125e9",
   "metadata": {},
   "source": [
    "### Step 4\n",
    "Note that multiplying matrix A by any non-zero vector yields a non-zero vector.(why?) Create a non-zero arbitrary vector named x and multiply matrix A by it. Also, normalize the answer. Repeat the same process for higher powers of A, such as 2, 10, 15, and 50. You can use the command 'matrix_power' for this part.\n"
   ]
  },
  {
   "cell_type": "markdown",
   "metadata": {
    "collapsed": false
   },
   "source": [
    "#### <font color=\"green\">Explanation</font>\n",
    "multiplying A by any non-zero vector yields a non-zero vector. This is because of the fact that $A$ is diagonizable. Therefor, all of it's eigenvectors are independent. Thus $A$ is invertible which means that it's determinant is non zero and $A$ is a full rank matrix. Therefor, it's nullspace is zero.\n",
    "Note that in the process of creating $A$ in the second step, the $D$ matrix won't have zero values thus, there will be no zero eigenvalue available."
   ]
  },
  {
   "cell_type": "code",
   "execution_count": 105,
   "id": "2d90d5bf",
   "metadata": {},
   "outputs": [
    {
     "name": "stdout",
     "output_type": "stream",
     "text": [
      "x =  [[2.1186647 ]\n",
      " [0.32441766]\n",
      " [0.07409866]] \n",
      "\n",
      "x1 =  [[-0.4262435 ]\n",
      " [ 0.30837247]\n",
      " [ 0.85042513]] \n",
      "\n",
      "x2 =  [[ 0.88660243]\n",
      " [-0.00932401]\n",
      " [ 0.46243832]] \n",
      "\n",
      "x10 =  [[0.50199907]\n",
      " [0.17439796]\n",
      " [0.84710229]] \n",
      "\n",
      "x15 =  [[0.3841001 ]\n",
      " [0.31283711]\n",
      " [0.86867719]] \n",
      "\n",
      "x50 =  [[0.41597118]\n",
      " [0.2769148 ]\n",
      " [0.86619061]] \n",
      "\n"
     ]
    }
   ],
   "source": [
    "# Complete this part!\n",
    "\n",
    "x = np.random.randn(3,1) + 0.5\n",
    "\n",
    "x1 = (A @ x) / np.linalg.norm(A@x)\n",
    "x2 = (np.linalg.matrix_power(A,2) @ x) / np.linalg.norm(np.linalg.matrix_power(A,2)@x)\n",
    "x10 = (np.linalg.matrix_power(A,10) @ x) / np.linalg.norm(np.linalg.matrix_power(A,10)@x)\n",
    "x15 = (np.linalg.matrix_power(A,15) @ x) / np.linalg.norm(np.linalg.matrix_power(A,15)@x)\n",
    "x50 = (np.linalg.matrix_power(A,50) @ x) / np.linalg.norm(np.linalg.matrix_power(A,50)@x)\n",
    "\n",
    "print(\"x = \",x,\"\\n\")\n",
    "print(\"x1 = \",x1,\"\\n\")\n",
    "print(\"x2 = \",x2,\"\\n\")\n",
    "print(\"x10 = \",x10,\"\\n\")\n",
    "print(\"x15 = \",x15,\"\\n\")\n",
    "print(\"x50 = \",x50,\"\\n\")"
   ]
  },
  {
   "cell_type": "markdown",
   "id": "9605ca18",
   "metadata": {},
   "source": [
    "### Step 5\n",
    "What pattern do you observe by increasing the power of A? Pay attention to the matrix containing the eigenvectors and compare it with the vectors obtained from this section. Which eigenvalue corresponds to the vector resulting from this process? To ensure the correct interpretation, you can rerun the first section with the new matrix and repeat the same process. Using this result, find the eigenvalue with the largest magnitude of A and its corresponding eigenvector. Based on the presented method, this value is an approximation."
   ]
  },
  {
   "cell_type": "code",
   "execution_count": 106,
   "id": "4a024ec5",
   "metadata": {},
   "outputs": [
    {
     "name": "stdout",
     "output_type": "stream",
     "text": [
      "Lambda =  [[9.47416377]]\n",
      "Eigenvector: \n",
      "  [[0.41597118]\n",
      " [0.2769148 ]\n",
      " [0.86619061]]\n"
     ]
    }
   ],
   "source": [
    "# Complete this part!\n",
    "def find_largest_eigVal_eigVec(A):\n",
    "\n",
    "    tol = 1e-6\n",
    "    max_i = 50\n",
    "    error = 1\n",
    "    i = 0\n",
    "    v = x\n",
    "    Lambda = 0\n",
    "\n",
    "    while error > tol and i < max_i:\n",
    "        y = A @ v\n",
    "        y = y / np.linalg.norm(y)\n",
    "        Lambda = y.T @ A @ y\n",
    "        error = np.linalg.norm(x - y)\n",
    "        v = y\n",
    "        i += 1\n",
    "\n",
    "    return Lambda, v\n",
    "\n",
    "[Lambda, v] = find_largest_eigVal_eigVec(A)\n",
    "print(\"Lambda = \", Lambda)\n",
    "print(\"Eigenvector: \\n \", v)"
   ]
  },
  {
   "cell_type": "markdown",
   "id": "660ce45a",
   "metadata": {},
   "source": [
    "### Step 6\n",
    "So far, we have been able to obtain the largest eigenvalue (in terms of absolute value) and its corresponding eigenvector. Now, we want to use this method to calculate the other eigenvalues and eigenvectors of the matrix. For this purpose, note that the diagonalizability of a matrix is equivalent to satisfying the following equation.\n",
    "\n",
    "![lagrida_latex_editor (1).png](data:image/png;base64,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)\n",
    "\n",
    "In the above equation, 𝒰ᵢᵀ is the i-th row of the inverse of matrix v. As a result, using the above equation, we can find a matrix whose largest eigenvalue is the second largest eigenvalue of matrix A. In fact, it is sufficient to subtract a rank-one matrix from A. Therefore, by continuing this process, we can obtain the eigenvalues and eigenvectors of A. Based on the points mentioned in the previous section, write a function below that takes a square matrix A and returns a diagonal matrix D and a matrix V of corresponding eigenvectors of D.\n",
    "\n",
    "\n"
   ]
  },
  {
   "cell_type": "code",
   "execution_count": 113,
   "id": "99a56ad7",
   "metadata": {},
   "outputs": [
    {
     "name": "stdout",
     "output_type": "stream",
     "text": [
      "Eigenvalues =  [ 9.47416379 -7.69451669 -5.15163599]\n",
      "Eigenvectors = \n",
      " [[-0.41594965 -0.65092859 -0.63504162]\n",
      " [-0.2769398   0.75581822 -0.59333226]\n",
      " [-0.86619296  0.07092805  0.49465036]] \n",
      "\n"
     ]
    }
   ],
   "source": [
    "# Complete this part!\n",
    "\n",
    "def eigen(A):\n",
    "  # input: square matrix A\n",
    "  # output: diagonal matrix D & eigenvector matrix V\n",
    "  # NOTE: the equation \"A = V @ D @ np.linalg.inv(V)\" must hold\n",
    "\n",
    "  n = len(A)\n",
    "  eigVal = np.zeros([n,n])\n",
    "  eigVec = np.zeros([n,n])\n",
    "\n",
    "  for i in range(n):\n",
    "      [Lambda , v] = find_largest_eigVal_eigVec(A)\n",
    "      eigVal[i,i] = Lambda\n",
    "      eigVec[i,:] = v.T\n",
    "      A -= Lambda * v.T@v\n",
    "\n",
    "  return D, V\n",
    "\n",
    "[D, V] = eigen(A)\n",
    "print(\"Eigenvalues = \", (D @ np.ones(len(A)).T) )\n",
    "print(\"Eigenvectors = \\n\", V,\"\\n\")"
   ]
  },
  {
   "cell_type": "markdown",
   "id": "3a301470",
   "metadata": {},
   "source": [
    "## Question 2 (30 points)\n"
   ]
  },
  {
   "cell_type": "markdown",
   "id": "b3d63ad5",
   "metadata": {},
   "source": [
    "As you learned in the course, the least squares method is a way of estimating a function given sample points $$(x_i, y_i), \\quad  0 \\leq i \\leq n$$ with the assumption of linearity of the underlying function."
   ]
  },
  {
   "cell_type": "markdown",
   "id": "d972e783",
   "metadata": {},
   "source": [
    "### step 1\n",
    "Create n=10 sample points $(x_i, y_i)$ where $$y_i = 2x_i + 3 + \\epsilon_i$$ $\\epsilon_i$ is an error term (measurement error etc.) added to $y_i$ and is modeled by random variables: $\\epsilon_i \\stackrel{iid}{\\sim} \\mathcal{N}(0, 1) $  . The x's should range from 0 to 5 and be evenly spaced (hint: use numpy's linspace function)"
   ]
  },
  {
   "cell_type": "code",
   "execution_count": 58,
   "metadata": {
    "collapsed": false,
    "pycharm": {
     "name": "#%%\n"
    }
   },
   "outputs": [
    {
     "name": "stdout",
     "output_type": "stream",
     "text": [
      "x =  [0.         0.55555556 1.11111111 1.66666667 2.22222222 2.77777778\n",
      " 3.33333333 3.88888889 4.44444444 5.        ] \n",
      "\n",
      "y =  [ 2.35229882  4.11986348  4.22454468  7.68658061  7.6740491   9.46912111\n",
      "  7.62617286 10.89442033 11.22499053 12.40726619]\n"
     ]
    }
   ],
   "source": [
    "n = 10\n",
    "x = np.linspace(0,5,n)\n",
    "e = np.random.randn(n)\n",
    "y = 2 * x + 3 + e\n",
    "\n",
    "print(\"x = \", x, \"\\n\")\n",
    "print(\"y = \", y)"
   ]
  },
  {
   "cell_type": "markdown",
   "id": "0f52c5b2",
   "metadata": {},
   "source": [
    "### step 2\n",
    "Given the samples of the previous part, try to estimate a linear function that models the relationship between $x_i$'s and $y_i$'s using the least squares method (find a and b such that the error function $\\sum_{i=0}^{n-1} ||ax_i + b - y_i||^2$ is minimized)"
   ]
  },
  {
   "cell_type": "code",
   "execution_count": 59,
   "metadata": {
    "collapsed": false,
    "pycharm": {
     "name": "#%%\n"
    }
   },
   "outputs": [
    {
     "name": "stdout",
     "output_type": "stream",
     "text": [
      "a =  1.9112053383021226\n",
      "b =  2.9899174261856567\n"
     ]
    }
   ],
   "source": [
    "def linear_LS(x, y, n):\n",
    "    # first we find a matrix A which fits the equation Ax=y which is the matrix format of the LS problem.\n",
    "    A = np.ones([n,2])\n",
    "    A[:,1] = x\n",
    "\n",
    "    x_hat = np.linalg.inv(A.T @ A) @ A.T @ y\n",
    "    a = x_hat[1]\n",
    "    b = x_hat[0]\n",
    "\n",
    "    return [a, b]\n",
    "\n",
    "[a, b] = linear_LS(x,y,n)\n",
    "print(\"a = \", a)\n",
    "print(\"b = \", b)"
   ]
  },
  {
   "cell_type": "markdown",
   "id": "79aa74fb",
   "metadata": {},
   "source": [
    "### step 3\n",
    "Plot the sample points and the line you estimated in the previous part in the same graph using matplotlib."
   ]
  },
  {
   "cell_type": "code",
   "execution_count": 44,
   "metadata": {
    "collapsed": false,
    "pycharm": {
     "name": "#%%\n"
    }
   },
   "outputs": [
    {
     "data": {
      "text/plain": [
       "Text(0, 0.5, 'y')"
      ]
     },
     "execution_count": 44,
     "metadata": {},
     "output_type": "execute_result"
    },
    {
     "data": {
      "image/png": "[encoded data removed]",
      "text/plain": [
       "<Figure size 640x480 with 1 Axes>"
      ]
     },
     "metadata": {},
     "output_type": "display_data"
    }
   ],
   "source": [
    "y_hat = a * x + b\n",
    "plt.scatter(x,y, c='red')\n",
    "plt.plot(x,y_hat)\n",
    "plt.xlabel('x')\n",
    "plt.ylabel('y')"
   ]
  },
  {
   "cell_type": "markdown",
   "id": "4563d6d7",
   "metadata": {},
   "source": [
    "### step 4\n",
    "Plot the error function $\\sum_{i=0}^{n-1} ||ax_i + b - y_i||^2$ as a function of n where $10\\leq n \\leq 50$ and a and b are the least squares estimates of the line $ax + b = y$."
   ]
  },
  {
   "cell_type": "code",
   "execution_count": 73,
   "metadata": {
    "collapsed": false,
    "pycharm": {
     "name": "#%%\n"
    }
   },
   "outputs": [
    {
     "data": {
      "text/plain": [
       "Text(0, 0.5, 'Error')"
      ]
     },
     "execution_count": 73,
     "metadata": {},
     "output_type": "execute_result"
    },
    {
     "data": {
      "image/png": "[encoded data removed]",
      "text/plain": [
       "<Figure size 640x480 with 1 Axes>"
      ]
     },
     "metadata": {},
     "output_type": "display_data"
    }
   ],
   "source": [
    "def calc_error(n):\n",
    "    n = 10\n",
    "    x = np.linspace(0,5,n)\n",
    "    e = np.random.randn(n)\n",
    "    y = 2 * x + 3 + e\n",
    "\n",
    "    [a, b] = linear_LS(x,y,n)\n",
    "\n",
    "    error = np.linalg.norm(a*x+b-y)\n",
    "    return error\n",
    "\n",
    "n = np.arange(10,51)\n",
    "errors = np.zeros(len(n))\n",
    "\n",
    "for i in range(len(n)):\n",
    "    errors[i] = calc_error(n[i])\n",
    "\n",
    "plt.plot(n,errors)\n",
    "plt.xlabel('n')\n",
    "plt.ylabel('Error')"
   ]
  },
  {
   "cell_type": "markdown",
   "id": "e0f8cb07",
   "metadata": {},
   "source": [
    "### step 5\n",
    "Repeat part 1 but this time create n=20 sample points with a quadratic term added to y: $$y_i = x^2_i + 2x_i + 3 + \\epsilon_i$$ $\\epsilon_i$ has the same distribution as before and x's range from 0 to 5 likewise."
   ]
  },
  {
   "cell_type": "code",
   "execution_count": 63,
   "metadata": {
    "collapsed": false,
    "pycharm": {
     "name": "#%%\n"
    }
   },
   "outputs": [
    {
     "name": "stdout",
     "output_type": "stream",
     "text": [
      "x =  [0.         0.26315789 0.52631579 0.78947368 1.05263158 1.31578947\n",
      " 1.57894737 1.84210526 2.10526316 2.36842105 2.63157895 2.89473684\n",
      " 3.15789474 3.42105263 3.68421053 3.94736842 4.21052632 4.47368421\n",
      " 4.73684211 5.        ] \n",
      "\n",
      "y =  [ 2.26672448  3.95972174  3.79009396  5.49973927  7.55996442  7.33298622\n",
      "  7.93171949  9.07027968 11.10039572 13.40678082 13.66830369 15.45301457\n",
      " 21.48064316 20.08067907 25.98864213 27.25155164 29.03438237 31.74070025\n",
      " 33.32422305 37.38705011]\n"
     ]
    }
   ],
   "source": [
    "n2 = 20\n",
    "x2 = np.linspace(0,5,n2)\n",
    "e2 = np.random.randn(n2)\n",
    "y2 = x2**2 + 2*x2 + 3 + e2\n",
    "\n",
    "print(\"x = \", x2, \"\\n\")\n",
    "print(\"y = \", y2)"
   ]
  },
  {
   "cell_type": "markdown",
   "id": "3d021439",
   "metadata": {},
   "source": [
    "### step 6\n",
    "Try to use the least squares method to estimate the coefficients of the quadratic function given the sample points of part 5 (hint: in the least squares method we minimze the norm of the error vector $||Ax-y||^2$. Add a column to matrix A for the quadratic terms and then try to minimize the error function using the least squares method)."
   ]
  },
  {
   "cell_type": "code",
   "execution_count": 64,
   "metadata": {
    "collapsed": false,
    "pycharm": {
     "name": "#%%\n"
    }
   },
   "outputs": [
    {
     "name": "stdout",
     "output_type": "stream",
     "text": [
      "y = ax^2 + bx + c\n",
      "a =  0.9664254168650979\n",
      "b =  2.129628459448798\n",
      "c =  2.7768281036175653\n"
     ]
    }
   ],
   "source": [
    "def quad_LS(x, y, n):\n",
    "    # first we find a matrix A which fits the equation Ax=y which is the matrix format of the LS problem.\n",
    "    A = np.ones([n,3])\n",
    "    A[:,0] = x**2\n",
    "    A[:,1] = x\n",
    "\n",
    "    x_hat = np.linalg.inv(A.T @ A) @ A.T @ y\n",
    "    a = x_hat[0]\n",
    "    b = x_hat[1]\n",
    "    c = x_hat[2]\n",
    "\n",
    "    return [a, b, c]\n",
    "\n",
    "[a2, b2, c2] = quad_LS(x2,y2,n2)\n",
    "print(\"y = ax^2 + bx + c\")\n",
    "print(\"a = \", a2)\n",
    "print(\"b = \", b2)\n",
    "print(\"c = \", c2)\n"
   ]
  },
  {
   "cell_type": "markdown",
   "id": "24b8810c",
   "metadata": {},
   "source": [
    "### step 7\n",
    "Repeat part 3 for the estimated quadratic function of the previous part."
   ]
  },
  {
   "cell_type": "code",
   "execution_count": 65,
   "id": "b1fe31f0",
   "metadata": {},
   "outputs": [
    {
     "data": {
      "text/plain": [
       "Text(0, 0.5, 'y')"
      ]
     },
     "execution_count": 65,
     "metadata": {},
     "output_type": "execute_result"
    },
    {
     "data": {
      "image/png": "[encoded data removed]",
      "text/plain": [
       "<Figure size 640x480 with 1 Axes>"
      ]
     },
     "metadata": {},
     "output_type": "display_data"
    }
   ],
   "source": [
    "y2_hat = a2*x2**2 + b2*x2 + c2\n",
    "plt.scatter(x2,y2, c='red')\n",
    "plt.plot(x2,y2_hat)\n",
    "plt.xlabel('x')\n",
    "plt.ylabel('y')"
   ]
  },
  {
   "cell_type": "markdown",
   "id": "ab291767",
   "metadata": {},
   "source": [
    "# Question 3 (35 points)"
   ]
  },
  {
   "cell_type": "markdown",
   "id": "fec1a157",
   "metadata": {},
   "source": [
    "You have been given a dataset containing information about the selling prices and sizes of different houses in a certain area. You have been asked to build a linear regression model using least squares to predict the selling price of a house based on its size.\n",
    "\n",
    "Tasks:\n",
    "\n",
    "    Complete the following functions to build a linear regression model using least squares and evaluate its performance on the testing set:\n",
    "\n",
    "        scatter_plot: Create a scatter plot of the training data with size on the x-axis and selling price on the y-axis.\n",
    "\n",
    "        compute_slope_intercept: Compute the slope and intercept of the line that best fits the training data using least squares.\n",
    "\n",
    "        evaluate_performance: Evaluate the performance of the model on the testing set using the mean squared error (MSE) and the coefficient of determination (R^2).\n",
    "\n",
    "You can use the numpy library to perform the necessary computations.\n",
    "Pay attention that you should only complete the mentioned functions."
   ]
  },
  {
   "cell_type": "code",
   "execution_count": 77,
   "id": "fb97835e",
   "metadata": {},
   "outputs": [
    {
     "name": "stdout",
     "output_type": "stream",
     "text": [
      "mse : 1386819.5716768785 r squared: 0.9998812710949337\n"
     ]
    },
    {
     "data": {
      "image/png": "[encoded data removed]",
      "text/plain": [
       "<Figure size 640x480 with 1 Axes>"
      ]
     },
     "metadata": {},
     "output_type": "display_data"
    }
   ],
   "source": [
    "import pandas as pd\n",
    "import numpy as np\n",
    "import matplotlib.pyplot as plt\n",
    "from sklearn.model_selection import train_test_split\n",
    "\n",
    "# Load the dataset\n",
    "df = pd.read_csv('house_dataset.csv')\n",
    "\n",
    "# Split the dataset into training and testing sets\n",
    "x_train, x_test, y_train, y_test = train_test_split(df['Size'], df['Price'], test_size=0.2, random_state=42)\n",
    "\n",
    "def scatter_plot():\n",
    "    plt.scatter(x_train,y_train)\n",
    "    plt.xlabel('size')\n",
    "    plt.ylabel('prize')\n",
    "    plt.title(\"House prise vs. Size\")\n",
    "\n",
    "def compute_slope_intercept():\n",
    "    [slope, intercept] = linear_LS(x_train, y_train, len(x_train))\n",
    "    return slope, intercept\n",
    "\n",
    "def evaluate_performance(slope, intercept):\n",
    "    y_estimate = slope * x_test + intercept\n",
    "    y_bar = np.average(y_test)\n",
    "\n",
    "    mse = np.average((y_estimate - y_test)**2)\n",
    "    r_squared = 1 - np.sum((y_estimate - y_test)**2) / np.sum((y_test - y_bar)**2)\n",
    "\n",
    "    return mse, r_squared\n",
    "\n",
    "scatter_plot()\n",
    "slope , intercept =compute_slope_intercept()\n",
    "mse , r_squared =evaluate_performance(slope , intercept)\n",
    "print(\"mse :\" , mse , \"r squared:\" , r_squared)"
   ]
  },
  {
   "cell_type": "markdown",
   "id": "0279004e",
   "metadata": {},
   "source": [
    " # Question 4 (Bonus part)"
   ]
  },
  {
   "cell_type": "markdown",
   "id": "29abad7f",
   "metadata": {},
   "source": [
    "You will be given a code that uses the iris dataset and classifies it by Bayesian classifier (you will study classification in a machine learning course).\n",
    "\n",
    "Tasks:\n",
    "\n",
    "    You should only complete parts of the code that are asked to be completed.\n",
    "    Explain what the classifier function does. To do so, you should have a basic knowledge of Bayesian classification.\n",
    "    Investigate what is the iris dataset and what is the history behind it.\n",
    "\n",
    "Bayesian classification is a probabilistic classification method that uses Bayes' theorem to calculate the probability of a certain event occurring. In the context of machine learning, it is a common method for classifying data into different categories based on their probability of belonging to a certain class. The classifier function in this code takes a set of features and uses them to classify the input data into different categories based on their probability of belonging to each class\n",
    " "
   ]
  },
  {
   "cell_type": "code",
   "execution_count": 78,
   "id": "ad40cc6f",
   "metadata": {},
   "outputs": [],
   "source": [
    "import pandas as pd\n",
    "from sklearn.datasets import load_iris\n",
    "from sklearn.metrics import confusion_matrix\n",
    "import numpy as np"
   ]
  },
  {
   "cell_type": "markdown",
   "id": "4312a325",
   "metadata": {},
   "source": [
    "Complete this part:"
   ]
  },
  {
   "cell_type": "code",
   "execution_count": 79,
   "id": "f6c73e98",
   "metadata": {},
   "outputs": [
    {
     "name": "stdout",
     "output_type": "stream",
     "text": [
      "   sepal length (cm)  sepal width (cm)  petal length (cm)  petal width (cm)  \\\n",
      "0                5.1               3.5                1.4               0.2   \n",
      "1                4.9               3.0                1.4               0.2   \n",
      "2                4.7               3.2                1.3               0.2   \n",
      "3                4.6               3.1                1.5               0.2   \n",
      "4                5.0               3.6                1.4               0.2   \n",
      "\n",
      "   target  \n",
      "0       0  \n",
      "1       0  \n",
      "2       0  \n",
      "3       0  \n",
      "4       0  \n"
     ]
    }
   ],
   "source": [
    "# Load the iris dataset\n",
    "iris = load_iris()\n",
    "\n",
    "# Create a pandas DataFrame from the iris data\n",
    "df = pd.DataFrame(iris.data, columns=iris.feature_names)\n",
    "\n",
    "# Add a column for the target variable\n",
    "df['target'] = iris.target\n",
    "\n",
    "# Print the first rows of the DataFrame\n",
    "print(df.head())"
   ]
  },
  {
   "cell_type": "code",
   "execution_count": 80,
   "id": "ca68835f",
   "metadata": {},
   "outputs": [],
   "source": [
    "# first we devide out datas into training and test ones:\n",
    "n = 120\n",
    "x_train = iris.data[:n,:]\n",
    "x_test = iris.data[n:,:]\n",
    "y_train = iris.target[:n]\n",
    "y_test = iris.target[n:]"
   ]
  },
  {
   "cell_type": "markdown",
   "id": "0ff199d0",
   "metadata": {},
   "source": [
    "Complete this part:"
   ]
  },
  {
   "cell_type": "code",
   "execution_count": 87,
   "id": "97f0c312",
   "metadata": {},
   "outputs": [],
   "source": [
    "# calculation of accuracy:\n",
    "def accuracy(predicted_outcome):\n",
    "    error_num = np.count_nonzero(predicted_outcome - y_test)\n",
    "    acc = (len(predicted_outcome) - error_num) / len(predicted_outcome) * 100\n",
    "    return acc"
   ]
  },
  {
   "cell_type": "code",
   "execution_count": 88,
   "id": "b2a3ea0d",
   "metadata": {},
   "outputs": [],
   "source": [
    "# we define a prediction func and then we complete each part:\n",
    "def predict(Samples):\n",
    "    predictions = np.zeros(len(Samples))\n",
    "    for j in range(len(Samples)):\n",
    "        sample = Samples[j,:]\n",
    "        probs = np.zeros(3)\n",
    "        for i in range(3):\n",
    "            probs[i] = cal_prob(i,sample) * prior_prob[i]\n",
    "        predictions[j] = np.argmax(probs)\n",
    "    return predictions\n",
    "\n",
    "# now we have to define prior probabilities:\n",
    "prior_prob = np.zeros(3)\n",
    "for i in range(len(y_test)):\n",
    "    if y_test[i] == 0:\n",
    "        prior_prob[0]+=1\n",
    "    elif y_test[i] == 1:\n",
    "        prior_prob[1]+=1\n",
    "    elif y_test[i] == 2:\n",
    "        prior_prob[2]+=1\n",
    "for i in range(3):\n",
    "    prior_prob[i] /= len(y_test)\n",
    "\n",
    "# calculation of variance and mean of each class:\n",
    "variances = np.zeros((3,4))\n",
    "means = np.zeros((3,4))\n",
    "for i in range(3):\n",
    "    x_i = x_train[y_train == i ,:]\n",
    "    means[i,:] = x_i.mean(axis =0)\n",
    "    variances[i,:] = x_i.var(axis =0)\n",
    "\n",
    "# calculation of probability:\n",
    "def cal_prob(i , sample):\n",
    "    prob = 1;\n",
    "    for c in range(4):\n",
    "        exp = -((sample[c] - means[i,c])**2) / (2*variances[i,c])\n",
    "        prob *= np.exp(exp)*(1/np.sqrt(2*np.pi*variances[i,c]))\n",
    "    return prob\n",
    "# Bayesian classifier:\n",
    "def bay_classifier():\n",
    "    predicted_outcome = predict(x_test)\n",
    "    return predicted_outcome"
   ]
  },
  {
   "cell_type": "code",
   "execution_count": 89,
   "id": "8586358c",
   "metadata": {},
   "outputs": [
    {
     "name": "stdout",
     "output_type": "stream",
     "text": [
      "Baysian classifier accuracy:  100.0\n",
      "confusion matrix:\n",
      " [[30]]\n"
     ]
    }
   ],
   "source": [
    "predicted_outcome = bay_classifier()\n",
    "acc = accuracy(predicted_outcome)\n",
    "print(\"Baysian classifier accuracy: \",acc)\n",
    "y_1 = confusion_matrix(y_test,predicted_outcome)\n",
    "print(\"confusion matrix:\\n\",y_1)"
   ]
  },
  {
   "cell_type": "markdown",
   "id": "760843d4",
   "metadata": {},
   "source": [
    "## <font color=\"green\"> Here is the report with the explanation of the prior, likelihood and posterior in the Bayesian classifier </font>\n",
    "\n",
    "A Bayesian classifier is a statistical method that assigns a class label to an observation based on the probability of that observation belonging to that class. It uses Bayes' theorem to calculate the posterior probability of each class given the observation and some prior knowledge about the class distribution. The class with the highest posterior probability is chosen as the predicted label.\n",
    "\n",
    "Bayes' theorem is a formula that relates the conditional and marginal probabilities of two events. It can be written as:\n",
    "\n",
    "$$P(A|B) = \\frac{P(B|A)P(A)}{P(B)}$$\n",
    "\n",
    "In the context of Bayesian classification, the terms in the formula have the following meanings:\n",
    "\n",
    "- **Posterior**: This is the probability of a class given an observation, denoted by $P(A|B)$. It represents how likely the observation belongs to that class after taking into account the evidence from the observation. The posterior is what we want to estimate and maximize in Bayesian classification.\n",
    "\n",
    "- **Likelihood**: This is the probability of an observation given a class, denoted by $P(B|A)$. It represents how likely we would observe this feature value if we knew that it belonged to that class. The likelihood is usually derived from the data or a model of the data distribution.\n",
    "\n",
    "- **Prior**: This is the probability of a class before observing any data, denoted by $P(A)$. It represents our initial belief or assumption about how likely each class is. The prior can be based on some domain knowledge or a uniform distribution.\n",
    "\n",
    "- **Evidence**: This is the probability of an observation regardless of the class, denoted by $P(B)$. It represents how likely we would observe this feature value in general. The evidence can be calculated by summing over all possible classes, using the law of total probability:\n",
    "\n",
    "$$P(B) = \\sum_{i=1}^n P(B|A_i)P(A_i)$$\n",
    "\n",
    "There are different types of Bayesian classifiers depending on how they model the probability distributions of the features and the classes. Some common examples are:\n",
    "\n",
    "- **Naive Bayes classifier**: This classifier assumes that all the features are independent of each other given the class label. It simplifies the calculation of the posterior probability by multiplying the individual probabilities of each feature. It is called naive because it ignores any possible correlations between the features.\n",
    "\n",
    "- **Bayesian network classifier**: This classifier builds a graphical model that represents the dependencies between the features and the classes using nodes and edges. It allows for more complex and realistic relationships than naive Bayes, but it also requires more data and computational resources to learn and infer.\n",
    "\n",
    "- **Bayes optimal classifier**: This classifier is a theoretical concept that represents the best possible performance of any Bayesian classifier. It uses the true probability distributions of the features and the classes, which are usually unknown in practice. It minimizes the probability of misclassification or the expected loss.\n",
    "\n",
    "Bayesian classifiers have many advantages, such as being robust to noise, handling missing data, and incorporating prior knowledge. They are also easy to implement and interpret, and can handle both discrete and continuous features. However, they also have some limitations, such as requiring a large amount of data, making strong assumptions about the data distribution, and being sensitive to irrelevant or redundant features.\n"
   ]
  },
  {
   "cell_type": "markdown",
   "id": "a29af153",
   "metadata": {},
   "source": [
    "# <font color=\"green\">The Iris Dataset in ML</font>\n",
    "\n",
    "The iris dataset is a multivariate dataset that contains four measurements of floral morphology (sepal length, sepal width, petal length, and petal width) for 150 plants belonging to three species of iris flowers (Iris setosa, Iris versicolor, and Iris virginica). The dataset is widely used as an example of statistical classification and machine learning techniques.\n",
    "\n",
    "\n",
    "\n",
    "![Iris setosa](https://th.bing.com/th/id/OIP.nfK3vGZkTa4GrO7yWpcS-QHaDT?pid=ImgDet&rs=1)\n",
    "\n",
    "![Iris setosa](https://upload.wikimedia.org/wikipedia/commons/thumb/5/56/Iris_dataset_scatterplot.svg/480px-Iris_dataset_scatterplot.svg.png)\n",
    "\n",
    "## <font color=\"green\">What is the history behind the iris dataset?</font>\n",
    "\n",
    "The iris dataset was introduced by the British statistician and biologist Ronald Fisher in his 1936 paper \"The use of multiple measurements in taxonomic problems\" as an example of linear discriminant analysis. Fisher proposed a method to predict the species of iris flowers based on the combination of the four measurement variables. He used the data collected by the American botanist Edgar Anderson near Gaspé, Quebec, Canada in the 1930s.\n",
    "\n",
    "The iris dataset is also known as Fisher's iris dataset or Anderson's iris dataset. It has become a classic and popular dataset for testing and demonstrating various statistical and machine learning methods. It is also one of the first datasets to be published online and has its own Wikipedia page.\n",
    "\n",
    "## <font color=\"green\">Why is the iris dataset useful and common for ML applications?</font>\n",
    "\n",
    "The iris dataset has been used extensively in machine learning applications, particularly in classification problems. In a typical classification task, the goal is to build a model that can predict the class label (iris species) of an unseen data point, based on its measurements (sepal and petal dimensions). The iris dataset is suitable for this task because:\n",
    "\n",
    "- It has a clear and simple structure, with three well-defined and balanced classes, and four numeric and continuous features.\n",
    "- It is small enough to be easily loaded and manipulated, but large enough to demonstrate the effectiveness of various machine learning methods.\n",
    "- It is also useful for demonstrating other aspects of machine learning, such as data preprocessing, feature engineering, model evaluation, cross-validation, hyperparameter tuning, and model selection.\n",
    "\n",
    "## <font color=\"green\">What are some examples of machine learning techniques that have been applied to the iris dataset?</font>\n",
    "\n",
    "Some examples of machine learning techniques that have been applied to the iris dataset are:\n",
    "\n",
    "- **Linear discriminant analysis**: This was the original method proposed by Fisher in his 1936 paper. It uses a linear function to separate the classes based on the combination of the features.\n",
    "- **Support vector machines**: This is a popular method that uses a nonlinear function to map the features into a higher-dimensional space, where a linear hyperplane can separate the classes with maximum margin.\n",
    "- **K-means clustering**: This is an unsupervised method that partitions the data into k groups based on the similarity of the features. It can be used to discover the natural clusters in the data without using the class labels.\n",
    "- **Naive Bayes classifier**: This is a simple method that assumes that all the features are independent given the class label. It calculates the posterior probability of each class based on the product of the individual probabilities of each feature.\n",
    "- **Decision trees**: This is a method that builds a tree-like structure to represent the rules for classifying the data. It splits the data recursively based on the best feature that maximizes the information gain.\n",
    "- **Neural networks**: This is a method that mimics the structure and function of biological neurons. It consists of layers of interconnected nodes that process and transmit information. It can learn complex and nonlinear patterns from the data.\n",
    "\n",
    "The iris dataset is a classic and popular dataset for testing and demonstrating various statistical and machine learning methods. It is also one of the first datasets to be published online and has its own Wikipedia page. The iris dataset is praised for its simplicity, clarity, and elegance, but it also has some limitations and criticisms, such as being too easy, too small, and too homogeneous.\n"
   ]
  }
 ],
 "metadata": {
  "kernelspec": {
   "display_name": "Python 3.10.6 64-bit",
   "language": "python",
   "name": "python3"
  },
  "language_info": {
   "codemirror_mode": {
    "name": "ipython",
    "version": 3
   },
   "file_extension": ".py",
   "mimetype": "text/x-python",
   "name": "python",
   "nbconvert_exporter": "python",
   "pygments_lexer": "ipython3",
   "version": "3.10.6"
  },
  "vscode": {
   "interpreter": {
    "hash": "0896b81dcb2c341496c5f558855f7373c1f3318c39ba481cdf7d9c519deac7b4"
   }
  }
 },
 "nbformat": 4,
 "nbformat_minor": 5
}